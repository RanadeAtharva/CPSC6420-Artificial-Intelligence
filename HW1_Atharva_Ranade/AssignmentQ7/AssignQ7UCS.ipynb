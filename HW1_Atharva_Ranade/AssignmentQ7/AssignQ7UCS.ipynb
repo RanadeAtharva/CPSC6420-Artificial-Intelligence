{
  "cells": [
    {
      "cell_type": "code",
      "execution_count": 96,
      "metadata": {
        "id": "8qIVaADgECCb"
      },
      "outputs": [],
      "source": [
        "import numpy as np\n",
        "class MyNode():\n",
        "    def __init__(self,s,p_node,move,depth,step_cost,path_cost):\n",
        "        self.s = s\n",
        "        self.p_node = p_node\n",
        "        self.move = move\n",
        "        self.depth = depth\n",
        "        self.step_cost = step_cost\n",
        "        self.path_cost = path_cost\n",
        "        self.move_up = None\n",
        "        self.move_left = None\n",
        "        self.move_right = None\n",
        "        self.move_down = None\n",
        "    \n",
        "    def try_down(self):\n",
        "        z_index = [i[0] for i in np.where(self.s==0)]\n",
        "        if z_index[0] == 0:\n",
        "            return False\n",
        "        else:\n",
        "            u_value = self.s[z_index[0]-1,z_index[1]]\n",
        "            new_s = self.s.copy()\n",
        "            new_s[z_index[0],z_index[1]] = u_value\n",
        "            new_s[z_index[0]-1,z_index[1]]= 0\n",
        "            return new_s,u_value\n",
        "    \n",
        "    def try_right(self):\n",
        "        z_index = [i[0] for i in np.where(self.s==0)]\n",
        "        if z_index[1] == 0:\n",
        "            return False\n",
        "        else:\n",
        "            l_value = self.s[z_index[0],z_index[1]-1]\n",
        "            new_s = self.s.copy()\n",
        "            new_s[z_index[0],z_index[1]] = l_value\n",
        "            new_s[z_index[0],z_index[1]-1]= 0\n",
        "            return new_s,l_value\n",
        "    \n",
        "    def try_left(self):\n",
        "        z_index = [i[0] for i in np.where(self.s==0)]\n",
        "        if z_index[1] == 2:\n",
        "            return False\n",
        "        else:\n",
        "            r_value = self.s[z_index[0],z_index[1]+1]\n",
        "            new_s = self.s.copy()\n",
        "            new_s[z_index[0],z_index[1]] = r_value\n",
        "            new_s[z_index[0],z_index[1]+1]= 0\n",
        "            return new_s,r_value\n",
        "        \n",
        "    def try_up(self):\n",
        "        z_index = [i[0] for i in np.where(self.s==0)]\n",
        "        if z_index[0] == 2:\n",
        "            return False\n",
        "        else:\n",
        "            d_value = self.s[z_index[0]+1,z_index[1]]\n",
        "            new_s = self.s.copy()\n",
        "            new_s[z_index[0],z_index[1]] = d_value\n",
        "            new_s[z_index[0] +1,z_index[1]]= 0\n",
        "            return new_s,d_value\n",
        "\n",
        "    def path(self):\n",
        "        s_trace=[self.s]\n",
        "        move_trace=[self.move]\n",
        "        depth_trace=[self.depth]\n",
        "        step_cost_trace = [self.step_cost]\n",
        "        path_cost_trace = [self.path_cost]\n",
        "        while self.p_node:\n",
        "            self = self.p_node\n",
        "            s_trace.append(self.s)\n",
        "            move_trace.append(self.move)\n",
        "            depth_trace.append(self.depth)\n",
        "            step_cost_trace.append(self.step_cost)\n",
        "            path_cost_trace.append(self.path_cost)\n",
        "        step_counter=0\n",
        "        while s_trace:\n",
        "            print ('step',step_counter)\n",
        "            print( s_trace.pop())\n",
        "            print(\"action=\" ,move_trace.pop(),\",depth=\", str(depth_trace.pop()),\", step cost=\" , str(step_cost_trace.pop()),\" total cost=\", str(path_cost_trace.pop()))\n",
        "            step_counter +=1\n",
        "                    \n",
        "    def UCS(self,goal_s):\n",
        "      queue=[(self,0)]\n",
        "      queue_num_nodes_popped = 0\n",
        "      queue_max_length = 1\n",
        "      depth_queue = [(0,0)]\n",
        "      path_cost_queue = [0]\n",
        "      visited = set([])\n",
        "\n",
        "      while queue:\n",
        "        queue = sorted(queue,key=lambda x:x[1])\n",
        "        depth_queue = sorted(depth_queue, key=lambda x:x[1])\n",
        "        path_cost_queue = sorted(path_cost_queue, key=lambda x:x)\n",
        "        \n",
        "        if len(queue) > queue_max_length:\n",
        "              queue_max_length = len(queue)\n",
        "        current_node = queue.pop(0)[0]\n",
        "        queue_num_nodes_popped +=1\n",
        "        current_depth = depth_queue.pop(0)[0]\n",
        "        current_path_cost = path_cost_queue.pop(0)\n",
        "        visited.add(tuple(current_node.s.reshape(1,9)[0])) \n",
        "        if np.array_equal(current_node.s, goal_s):\n",
        "              current_node.path()\n",
        "              return True\n",
        "        else:\n",
        "              if current_node.try_down():\n",
        "                  new_s,u_value = current_node.try_down()\n",
        "                  if tuple(new_s.reshape(1,9)[0]) not in visited:\n",
        "                    current_node.move_down = MyNode(s=new_s, p_node=current_node,move='up',depth=current_depth+1,step_cost=u_value, path_cost=current_path_cost + u_value+down_cost)\n",
        "                    queue.append((current_node.move_down,current_path_cost+u_value))\n",
        "                    depth_queue.append((current_depth+1,current_path_cost+u_value))\n",
        "                    path_cost_queue.append(current_path_cost+u_value+down_cost)\n",
        "              if current_node.try_right():\n",
        "                    new_s,l_value = current_node.try_right()\n",
        "                    if tuple(new_s.reshape(1,9)[0]) not in visited:\n",
        "                      current_node.move_right = MyNode(s=new_s, p_node=current_node,move='left',depth=current_depth+1,step_cost=l_value, path_cost=current_path_cost + l_value+ right_cost)\n",
        "                      queue.append((current_node.move_right,current_path_cost+l_value))\n",
        "                      depth_queue.append((current_depth+1,current_path_cost+l_value))\n",
        "                      path_cost_queue.append(current_path_cost+l_value+right_cost)\n",
        "              if current_node.try_left():\n",
        "                    new_s,r_value = current_node.try_left()\n",
        "                    if tuple(new_s.reshape(1,9)[0]) not in visited:\n",
        "                      current_node.move_left = MyNode(s=new_s, p_node=current_node,move='right',depth=current_depth+1,step_cost=r_value, path_cost=current_path_cost + r_value+left_cost)\n",
        "                      queue.append((current_node.move_left,current_path_cost+r_value))\n",
        "                      depth_queue.append((current_depth+1,current_path_cost+r_value))\n",
        "                      path_cost_queue.append(current_path_cost+r_value+left_cost)\n",
        "              if current_node.try_up():\n",
        "                    new_s,d_value = current_node.try_up()\n",
        "                    if tuple(new_s.reshape(1,9)[0]) not in visited:\n",
        "                      current_node.move_up = MyNode(s=new_s, p_node=current_node,move='down',depth=current_depth+1,step_cost=d_value, path_cost=current_path_cost + d_value+up_cost)\n",
        "                      queue.append((current_node.move_up,current_path_cost+d_value))\n",
        "                      depth_queue.append((current_depth+1,current_path_cost+d_value))\n",
        "                      path_cost_queue.append(current_path_cost+d_value+up_cost)\n",
        "          \n"
      ]
    },
    {
      "cell_type": "code",
      "execution_count": 97,
      "metadata": {
        "colab": {
          "base_uri": "https://localhost:8080/"
        },
        "id": "2dm2IU6f34_3",
        "outputId": "6405baf8-999b-48dd-9ac8-eeabc2896cca"
      },
      "outputs": [
        {
          "output_type": "stream",
          "name": "stdout",
          "text": [
            "step 0\n",
            "[[1 3 4]\n",
            " [8 6 2]\n",
            " [7 0 5]]\n",
            "action= None ,depth= 0 , step cost= 0  total cost= 0\n",
            "step 1\n",
            "[[1 3 4]\n",
            " [8 0 2]\n",
            " [7 6 5]]\n",
            "action= up ,depth= 1 , step cost= 6  total cost= 7\n",
            "step 2\n",
            "[[1 3 4]\n",
            " [8 2 0]\n",
            " [7 6 5]]\n",
            "action= right ,depth= 2 , step cost= 2  total cost= 10\n",
            "step 3\n",
            "[[1 3 0]\n",
            " [8 2 4]\n",
            " [7 6 5]]\n",
            "action= up ,depth= 3 , step cost= 4  total cost= 15\n",
            "step 4\n",
            "[[1 0 3]\n",
            " [8 2 4]\n",
            " [7 6 5]]\n",
            "action= left ,depth= 4 , step cost= 3  total cost= 19\n",
            "step 5\n",
            "[[1 2 3]\n",
            " [8 0 4]\n",
            " [7 6 5]]\n",
            "action= down ,depth= 5 , step cost= 2  total cost= 22\n",
            "27\n",
            "19\n"
          ]
        },
        {
          "output_type": "execute_result",
          "data": {
            "text/plain": [
              "True"
            ]
          },
          "metadata": {},
          "execution_count": 97
        }
      ],
      "source": [
        "initial_s = np.array([1,3,4,8,6,2,7,0,5]).reshape(3,3)\n",
        "goal_s = np.array([1,2,3,8,0,4,7,6,5]).reshape(3,3)\n",
        "up_cost=1\n",
        "right_cost=1\n",
        "left_cost=1\n",
        "down_cost=1\n",
        "root_node = MyNode(s= initial_s,p_node=None,move=None,depth=0,step_cost=0,path_cost=0)\n",
        "root_node.UCS(goal_s)"
      ]
    },
    {
      "cell_type": "code",
      "execution_count": 98,
      "metadata": {
        "id": "YPLFGr8cGrl9",
        "colab": {
          "base_uri": "https://localhost:8080/"
        },
        "outputId": "9fcb4275-5b36-4456-9578-a7a076a38452"
      },
      "outputs": [
        {
          "output_type": "stream",
          "name": "stdout",
          "text": [
            "step 0\n",
            "[[1 3 4]\n",
            " [8 6 2]\n",
            " [7 0 5]]\n",
            "action= None ,depth= 0 , step cost= 0  total cost= 0\n",
            "step 1\n",
            "[[1 3 4]\n",
            " [8 0 2]\n",
            " [7 6 5]]\n",
            "action= up ,depth= 1 , step cost= 6  total cost= 7\n",
            "step 2\n",
            "[[1 3 4]\n",
            " [8 2 0]\n",
            " [7 6 5]]\n",
            "action= right ,depth= 2 , step cost= 2  total cost= 11\n",
            "step 3\n",
            "[[1 3 0]\n",
            " [8 2 4]\n",
            " [7 6 5]]\n",
            "action= up ,depth= 3 , step cost= 4  total cost= 16\n",
            "step 4\n",
            "[[1 0 3]\n",
            " [8 2 4]\n",
            " [7 6 5]]\n",
            "action= left ,depth= 4 , step cost= 3  total cost= 19.5\n",
            "step 5\n",
            "[[1 2 3]\n",
            " [8 0 4]\n",
            " [7 6 5]]\n",
            "action= down ,depth= 5 , step cost= 2  total cost= 22.5\n",
            "27\n",
            "19\n"
          ]
        },
        {
          "output_type": "execute_result",
          "data": {
            "text/plain": [
              "True"
            ]
          },
          "metadata": {},
          "execution_count": 98
        }
      ],
      "source": [
        "up_cost=1\n",
        "right_cost=0.5\n",
        "left_cost=2\n",
        "down_cost=1\n",
        "root_node.UCS(goal_s)"
      ]
    },
    {
      "cell_type": "code",
      "source": [],
      "metadata": {
        "id": "XZzs-q1HHVeo"
      },
      "execution_count": null,
      "outputs": []
    }
  ],
  "metadata": {
    "colab": {
      "collapsed_sections": [],
      "provenance": []
    },
    "kernelspec": {
      "display_name": "Python 3 (ipykernel)",
      "language": "python",
      "name": "python3"
    },
    "language_info": {
      "codemirror_mode": {
        "name": "ipython",
        "version": 3
      },
      "file_extension": ".py",
      "mimetype": "text/x-python",
      "name": "python",
      "nbconvert_exporter": "python",
      "pygments_lexer": "ipython3",
      "version": "3.9.13"
    }
  },
  "nbformat": 4,
  "nbformat_minor": 0
}