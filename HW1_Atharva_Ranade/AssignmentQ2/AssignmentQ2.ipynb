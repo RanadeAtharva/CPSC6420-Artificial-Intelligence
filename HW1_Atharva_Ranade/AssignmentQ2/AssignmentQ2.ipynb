{
  "nbformat": 4,
  "nbformat_minor": 0,
  "metadata": {
    "colab": {
      "provenance": [],
      "collapsed_sections": []
    },
    "kernelspec": {
      "name": "python3",
      "display_name": "Python 3"
    },
    "language_info": {
      "name": "python"
    }
  },
  "cells": [
    {
      "cell_type": "code",
      "execution_count": 9,
      "metadata": {
        "colab": {
          "base_uri": "https://localhost:8080/"
        },
        "id": "PTdy2s3oXUMm",
        "outputId": "c0cbcda0-1d6f-4ef6-9937-86c86f4c0bd7"
      },
      "outputs": [
        {
          "output_type": "stream",
          "name": "stdout",
          "text": [
            "Enter a initial state(with spaces)::{eg:- 1 2 3 4 5 6 7 8 0}\n",
            "0 1 2 3 4 5 6 7 8\n",
            "Given input is::\n",
            "[[0 1 2]\n",
            " [3 4 5]\n",
            " [6 7 8]]\n",
            "Enter 1 for up, 2 for down, 3 for left and 4 for right:: 2\n",
            "Output:\n",
            "[[3 1 2]\n",
            " [0 4 5]\n",
            " [6 7 8]]\n"
          ]
        }
      ],
      "source": [
        "import numpy as np\n",
        "def left(initial_state):\n",
        "    for i in range(0,3):\n",
        "      for j in range(0,3):\n",
        "        if (initial_state[i][j]==0) :\n",
        "          if j>0:\n",
        "            initial_state[i][j-1]= initial_state[i][j-1] + initial_state[i][j] # a = a+b b = a-b a= a-b\n",
        "            initial_state[i][j]= initial_state[i][j-1] - initial_state[i][j]\n",
        "            initial_state[i][j-1]=initial_state[i][j-1] - initial_state[i][j]\n",
        "            return(initial_state)\n",
        "          else:\n",
        "            print(\"error\")\n",
        "def right(initial_state):\n",
        "  for i in range(0,3):\n",
        "    for j in range(0,3):\n",
        "      if (initial_state[i][j]==0):\n",
        "        if j<2:\n",
        "          initial_state[i][j+1] = initial_state[i][j+1] + initial_state[i][j]\n",
        "          initial_state[i][j]= initial_state[i][j+1] - initial_state[i][j]\n",
        "          initial_state[i][j+1]= initial_state[i][j+1] - initial_state[i][j]\n",
        "          return(initial_state) \n",
        "        else:\n",
        "          print(\"error\")\n",
        "def up(initial_state):\n",
        "    for i in range(0,3):\n",
        "      for j in range(0,3):\n",
        "        if (initial_state[i][j]==0) :\n",
        "          if i>0:\n",
        "            initial_state[i-1][j] = initial_state[i-1][j] + initial_state[i][j] \n",
        "            initial_state[i][j]=initial_state[i-1][j] - initial_state[i][j]\n",
        "            initial_state[i-1][j] = initial_state[i-1][j] - initial_state[i][j]\n",
        "            return (initial_state)\n",
        "          else:\n",
        "            print(\"error\")\n",
        "def down(initial_state):\n",
        "    for i in range(0,3):\n",
        "      for j in range(0,3):\n",
        "        if (initial_state[i][j]==0):\n",
        "          if i<2:\n",
        "            initial_state[i+1][j] = initial_state[i+1][j] + initial_state[i][j]\n",
        "            initial_state[i][j]=initial_state[i+1][j] - initial_state[i][j]\n",
        "            initial_state[i+1][j]=initial_state[i+1][j] - initial_state[i][j]\n",
        "            return (initial_state)  \n",
        "          else:\n",
        "            print(\"error\")\n",
        "#main\n",
        "temp=0\n",
        "print(\"Enter a initial state(with spaces)::{eg:- 1 2 3 4 5 6 7 8 0}\")\n",
        "initial_state=[int(i) for i in input().split()]\n",
        "initial_state= np.array([initial_state]).reshape(3,3)\n",
        "print(\"Given input is::\")\n",
        "print(initial_state)\n",
        "a=int(input(\"Enter 1 for up, 2 for down, 3 for left and 4 for right:: \"))\n",
        "print(\"Output:\")\n",
        "if a==1:\n",
        "  print(up(initial_state))\n",
        "elif a==2:\n",
        "  print(down(initial_state))\n",
        "elif a==3:\n",
        "  print(left(initial_state))\n",
        "elif a==4:\n",
        "  print(right(initial_state))\n",
        "else:\n",
        "  print(\"give a valid input\")\n"
      ]
    },
    {
      "cell_type": "code",
      "source": [],
      "metadata": {
        "id": "Z_0iNG4rZzRH"
      },
      "execution_count": null,
      "outputs": []
    }
  ]
}